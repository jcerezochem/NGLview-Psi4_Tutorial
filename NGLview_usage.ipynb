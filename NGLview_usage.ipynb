{
 "cells": [
  {
   "cell_type": "markdown",
   "id": "civic-accounting",
   "metadata": {},
   "source": [
    "# NGLview - Usage notes\n",
    "\n",
    "Author: Javier Cerezo (javier.cerezo@uam.es)</p>\n",
    "Date: March 2021\n",
    "\n",
    "This notebook reviews some hints to use `NGLview` module, with enphasis on representation of orbitals from cubefiles."
   ]
  },
  {
   "cell_type": "code",
   "execution_count": null,
   "id": "fallen-arrest",
   "metadata": {},
   "outputs": [],
   "source": [
    "# Import modules\n",
    "import nglview as nv\n",
    "import ase.io\n",
    "# Load psi4 to compute orbitals\n",
    "import psi4"
   ]
  },
  {
   "cell_type": "code",
   "execution_count": null,
   "id": "becoming-annual",
   "metadata": {},
   "outputs": [],
   "source": [
    "# Generate testing data files\n",
    "## XYZ\n",
    "geomxyz = '''2\n",
    "HF geometry\n",
    "F 0.0 0.0 -0.650\n",
    "H 0.0 0.0  0.488\n",
    "'''\n",
    "fxyz = 'test.xyz'\n",
    "open(fxyz,'w').write(geomxyz)\n",
    "\n",
    "## PDB\n",
    "geompdb = '''TITLE Testing file\n",
    "ATOM      1 F    MOL     1       0.000   0.000  -0.650\n",
    "ATOM      2 H    MOL     1       0.000   0.000   0.488\n",
    "CONECT    1\n",
    "CONECT    2\n",
    "'''\n",
    "fpdb = 'test.pdb'\n",
    "open(fpdb,'w').write(geompdb)"
   ]
  },
  {
   "cell_type": "markdown",
   "id": "digital-chorus",
   "metadata": {},
   "source": [
    "## Single strucuture \n",
    "\n",
    "NGLview can read some structures directly from files. Some supported formats are `cube`, `pdb`, `gro`..."
   ]
  },
  {
   "cell_type": "code",
   "execution_count": null,
   "id": "operational-aluminum",
   "metadata": {},
   "outputs": [],
   "source": [
    "view = nv.show_file(fpdb)\n",
    "view"
   ]
  },
  {
   "cell_type": "markdown",
   "id": "accredited-filename",
   "metadata": {},
   "source": [
    "Note that `xyz` is not supported. Gives no error, but `view` has no atoms"
   ]
  },
  {
   "cell_type": "code",
   "execution_count": null,
   "id": "bound-professor",
   "metadata": {},
   "outputs": [],
   "source": [
    "view = nv.show_file(fxyz)\n",
    "view"
   ]
  },
  {
   "cell_type": "markdown",
   "id": "clean-integral",
   "metadata": {},
   "source": [
    "In order to use `xyz` (or other generic fomats), we can use structure objects from popular projects such as `ASE` or `MDAnalysis`, which are supported in `NGLView`"
   ]
  },
  {
   "cell_type": "code",
   "execution_count": null,
   "id": "creative-cover",
   "metadata": {},
   "outputs": [],
   "source": [
    "mol = ase.io.read(fxyz)\n",
    "view = nv.show_ase(mol)\n",
    "view"
   ]
  },
  {
   "cell_type": "markdown",
   "id": "dried-denial",
   "metadata": {},
   "source": [
    "Actually, the `view_X()` calls are a shortcut to the general procedure to plot single structures:\n",
    " 1. Create a `Structure` class with the structure from the file, `ASE` class...\n",
    " 2. Create the `NGLWidget` with the `Structure` as argument\n",
    " \n",
    "An `NGLWidget` object can be instantiated with filename (with structure or trajectory) or NGLView's `Structure` object (not with a structure object from other module)"
   ]
  },
  {
   "cell_type": "code",
   "execution_count": null,
   "id": "disturbed-practitioner",
   "metadata": {},
   "outputs": [],
   "source": [
    "# Structure() is the base class. Load specific format with specific derived class\n",
    "mol = ase.io.read(fxyz)\n",
    "structure = nv.ASEStructure(mol)\n",
    "view = nv.NGLWidget(structure)\n",
    "view"
   ]
  },
  {
   "cell_type": "code",
   "execution_count": null,
   "id": "mediterranean-orchestra",
   "metadata": {},
   "outputs": [],
   "source": [
    "view = nv.NGLWidget()\n",
    "view.add_component(fpdb)\n",
    "view"
   ]
  },
  {
   "cell_type": "code",
   "execution_count": null,
   "id": "eight-tunnel",
   "metadata": {},
   "outputs": [],
   "source": [
    "# If we want to use an external structure object, \n",
    "# use it to generate the NGLview structure object first\n",
    "view = nv.NGLWidget()\n",
    "mol = ase.io.read(fxyz)\n",
    "structure = nv.ASEStructure(mol)\n",
    "view.add_component(structure)\n",
    "view"
   ]
  },
  {
   "cell_type": "markdown",
   "id": "plastic-castle",
   "metadata": {},
   "source": [
    "### Controlling visualization parameters"
   ]
  },
  {
   "cell_type": "code",
   "execution_count": null,
   "id": "thousand-conflict",
   "metadata": {},
   "outputs": [],
   "source": [
    "# The parameters are stored in a dict. Some relevant ones to remove depth cue.\n",
    "# Place the abave representation in a position where the strucutre is clipped\n",
    "# and run the below parameter\n",
    "view.parameters = {\"clipNear\": 0, \"clipFar\": 100, \"clipDist\": 1}"
   ]
  },
  {
   "cell_type": "markdown",
   "id": "based-carolina",
   "metadata": {},
   "source": [
    "### Adding surfaces (orbitals)"
   ]
  },
  {
   "cell_type": "code",
   "execution_count": null,
   "id": "golden-raise",
   "metadata": {},
   "outputs": [],
   "source": [
    "# Compute cubes with psi4:\n",
    "\n",
    "## Generate input\n",
    "psi4_inp = geomxyz.split('\\n')\n",
    "psi4_inp = '\\n'.join(psi4_inp[2:])\n",
    "psi4_inp = '0 1\\n' + psi4_inp\n",
    "## Set psi4 Molecule\n",
    "psi4_mol = psi4.geometry(psi4_inp)\n",
    "## Compute\n",
    "E, wfn = psi4.energy('b3lyp/6-31G(d)',return_wfn=True)\n",
    "## Generate cubes\n",
    "psi4.driver.p4util.cubeprop(wfn)\n",
    "## Change name\n",
    "%mv Psi_a_*_2-B1.cube Orbital_2-B1.cube\n",
    "%mv Psi_a_*_7-A1.cube Orbital_7-A1.cube\n",
    "%rm Psi_*cube\n",
    "cubefile1 = 'Orbital_2-B1.cube'\n",
    "cubefile2 = 'Orbital_7-A1.cube'"
   ]
  },
  {
   "cell_type": "code",
   "execution_count": null,
   "id": "confused-division",
   "metadata": {},
   "outputs": [],
   "source": [
    "# If we want to use an external structure object, \n",
    "# use it to generate the NGLview structure object first\n",
    "# ASE can also read strcutre from cubes (to read surfaces\n",
    "# from cubes with ASE there is a special function)\n",
    "view = nv.NGLWidget()\n",
    "view.parameters = {\"clipNear\": 0, \"clipFar\": 100, \"clipDist\": 1}\n",
    "mol = ase.io.read(cubefile1)\n",
    "structure = nv.ASEStructure(mol)\n",
    "view.add_component(structure)\n",
    "view"
   ]
  },
  {
   "cell_type": "code",
   "execution_count": null,
   "id": "underlying-member",
   "metadata": {},
   "outputs": [],
   "source": [
    "# To ensure that the orientation of the structure \n",
    "# is the same as that of the structure, it is better\n",
    "# to load the structure also from the cubefile\n",
    "view = nv.NGLWidget()\n",
    "view.parameters = {\"clipNear\": 0, \"clipFar\": 100, \"clipDist\": 1}\n",
    "mol = ase.io.read(cubefile1)\n",
    "structure = nv.ASEStructure(mol)\n",
    "view.add_component(structure)"
   ]
  },
  {
   "cell_type": "markdown",
   "id": "traditional-finding",
   "metadata": {},
   "source": [
    "Surface data are loaded over a `NGLwidget` object as a new component. By default, cube data are loaded with parameters that are not convinient for usual visualization. In this case, clear the representation and add it again."
   ]
  },
  {
   "cell_type": "code",
   "execution_count": null,
   "id": "sustained-healthcare",
   "metadata": {},
   "outputs": [],
   "source": [
    "# surface data on component_1\n",
    "view.add_component(cubefile1)\n",
    "view.component_1.clear()\n",
    "view.component_1.add_surface(opacity=0.5, color='blue', isolevel=1. )\n",
    "view.component_1.add_surface(opacity=0.5, color='red', isolevel=-1.)\n",
    "view"
   ]
  },
  {
   "cell_type": "markdown",
   "id": "golden-configuration",
   "metadata": {},
   "source": [
    "#### Adding multiple surfaces\n",
    "\n",
    "This can be done in two ways:\n",
    "\n",
    " 1. Removing component_1 and generate it for every surface\n",
    " 2. Load all surfaces on separate compoents, which are hidden at first"
   ]
  },
  {
   "cell_type": "markdown",
   "id": "earned-alias",
   "metadata": {},
   "source": [
    "**Option 1**"
   ]
  },
  {
   "cell_type": "code",
   "execution_count": null,
   "id": "understanding-technical",
   "metadata": {},
   "outputs": [],
   "source": [
    "# Structure\n",
    "mol = ase.io.read(cubefile1)\n",
    "view = nv.show_ase(mol)\n",
    "# component_1: cubefile1\n",
    "view.add_component(cubefile1)\n",
    "view.component_1.clear()\n",
    "view.component_1.add_surface(opacity=0.5, color='blue', isolevel=1. )\n",
    "view.component_1.add_surface(opacity=0.5, color='red', isolevel=-1.)\n",
    "view"
   ]
  },
  {
   "cell_type": "code",
   "execution_count": null,
   "id": "affecting-blair",
   "metadata": {},
   "outputs": [],
   "source": [
    "# Change to surface on cubefile2\n",
    "# component_1: cubefile2\n",
    "c1 = view.component_1\n",
    "view.remove_component(c1)\n",
    "view.add_component(cubefile2)\n",
    "view.component_1.clear()\n",
    "view.component_1.add_surface(opacity=0.5, color='blue', isolevel=1. )\n",
    "view.component_1.add_surface(opacity=0.5, color='red', isolevel=-1.)"
   ]
  },
  {
   "cell_type": "markdown",
   "id": "thrown-somewhere",
   "metadata": {},
   "source": [
    "**Option 2**"
   ]
  },
  {
   "cell_type": "code",
   "execution_count": null,
   "id": "broken-television",
   "metadata": {},
   "outputs": [],
   "source": [
    "# Structure\n",
    "mol = ase.io.read(cubefile1)\n",
    "view = nv.show_ase(mol)\n",
    "# component_1\n",
    "view.add_component(cubefile1)\n",
    "view.component_1.clear()\n",
    "view.component_1.add_surface(opacity=0.5, color='blue', isolevel=1. )\n",
    "view.component_1.add_surface(opacity=0.5, color='red', isolevel=-1.)\n",
    "view.component_1.hide()\n",
    "# component_2\n",
    "view.add_component(cubefile2)\n",
    "view.component_2.clear()\n",
    "view.component_2.add_surface(opacity=0.5, color='blue', isolevel=1. )\n",
    "view.component_2.add_surface(opacity=0.5, color='red', isolevel=-1.)\n",
    "view.component_2.hide()\n",
    "\n",
    "# View surface on cubefile1abs\n",
    "view.component_1.show()\n",
    "view"
   ]
  },
  {
   "cell_type": "code",
   "execution_count": null,
   "id": "waiting-paradise",
   "metadata": {},
   "outputs": [],
   "source": [
    "# Change to surface on cubefile2\n",
    "# Hide component_1 and show component_2\n",
    "view.component_1.hide()\n",
    "view.component_2.show()"
   ]
  },
  {
   "cell_type": "markdown",
   "id": "athletic-differential",
   "metadata": {},
   "source": [
    "Note that **Option 2** is much faster, with virtually no delay. So it is more convinient to use with interactive widgets (although it takes more memory)\n",
    "\n",
    "Moreover, it is also convinient to cast all components as the are created to easily access them:"
   ]
  },
  {
   "cell_type": "code",
   "execution_count": null,
   "id": "allied-dispatch",
   "metadata": {},
   "outputs": [],
   "source": [
    "# Structure\n",
    "mol = ase.io.read(cubefile1)\n",
    "view = nv.show_ase(mol)\n",
    "# Get orbitals\n",
    "orbs = []\n",
    "# component_1\n",
    "orbs.append(view.add_component(cubefile1))\n",
    "view.component_1.clear()\n",
    "view.component_1.add_surface(opacity=0.5, color='blue', isolevel=1. )\n",
    "view.component_1.add_surface(opacity=0.5, color='red', isolevel=-1.)\n",
    "view.component_1.hide()\n",
    "# component_2\n",
    "orbs.append(view.add_component(cubefile2))\n",
    "view.component_2.clear()\n",
    "view.component_2.add_surface(opacity=0.5, color='blue', isolevel=1. )\n",
    "view.component_2.add_surface(opacity=0.5, color='red', isolevel=-1.)\n",
    "view.component_2.hide()\n",
    "\n",
    "# View surface on cubefile1abs\n",
    "orbs[0].show()\n",
    "view"
   ]
  },
  {
   "cell_type": "code",
   "execution_count": null,
   "id": "generous-surfing",
   "metadata": {},
   "outputs": [],
   "source": [
    "# Change to surface on cubefile2\n",
    "# Hide component_1 and show component_2\n",
    "orbs[0].hide()\n",
    "orbs[1].show()"
   ]
  },
  {
   "cell_type": "markdown",
   "id": "close-beverage",
   "metadata": {},
   "source": [
    "## Trajectories"
   ]
  },
  {
   "cell_type": "markdown",
   "id": "tamil-insured",
   "metadata": {},
   "source": [
    "Generate a trajectory from single structures"
   ]
  },
  {
   "cell_type": "code",
   "execution_count": null,
   "id": "turned-cambridge",
   "metadata": {},
   "outputs": [],
   "source": [
    "# Testing geometries\n",
    "geomxyz_1 = '''2\n",
    "HF geometry\n",
    "F 0.0 0.0 0\n",
    "H 0.0 0.0 1.0\n",
    "'''\n",
    "fxyz_1 = 'test1.xyz'\n",
    "open(fxyz_1,'w').write(geomxyz_1)\n",
    "geomxyz_2 = '''2\n",
    "HF geometry\n",
    "F 0.0 0.0 0\n",
    "H 0.0 0.0 1.5\n",
    "'''\n",
    "fxyz_2 = 'test2.xyz'\n",
    "open(fxyz_2,'w').write(geomxyz_2)"
   ]
  },
  {
   "cell_type": "code",
   "execution_count": null,
   "id": "continental-processor",
   "metadata": {},
   "outputs": [],
   "source": [
    "# Compute cubes with psi4:\n",
    "\n",
    "## GEO 1 ##\n",
    "\n",
    "## Generate input\n",
    "psi4_inp = geomxyz_1.split('\\n')\n",
    "psi4_inp = '\\n'.join(psi4_inp[2:])\n",
    "psi4_inp = '0 1\\n' + psi4_inp\n",
    "## Set psi4 Molecule\n",
    "psi4_mol = psi4.geometry(psi4_inp)\n",
    "## Compute\n",
    "E, wfn = psi4.energy('b3lyp/6-31G(d)',return_wfn=True)\n",
    "## Generate cubes\n",
    "psi4.driver.p4util.cubeprop(wfn)\n",
    "## Change name\n",
    "%mv Psi_a_*_2-B1.cube Orbital1_2-B1.cube\n",
    "%mv Psi_a_*_7-A1.cube Orbital1_7-A1.cube\n",
    "%rm Psi_*cube\n",
    "cubefile1_1 = 'Orbital1_2-B1.cube'\n",
    "cubefile2_1 = 'Orbital1_7-A1.cube'\n",
    "\n",
    "## GEO 2 ##\n",
    "\n",
    "## Generate input\n",
    "psi4_inp = geomxyz_2.split('\\n')\n",
    "psi4_inp = '\\n'.join(psi4_inp[2:])\n",
    "psi4_inp = '0 1\\n' + psi4_inp\n",
    "## Set psi4 Molecule\n",
    "psi4_mol = psi4.geometry(psi4_inp)\n",
    "## Compute\n",
    "E, wfn = psi4.energy('b3lyp/6-31G(d)',return_wfn=True)\n",
    "## Generate cubes\n",
    "psi4.driver.p4util.cubeprop(wfn)\n",
    "## Change name\n",
    "%mv Psi_a_*_2-B1.cube Orbital2_2-B1.cube\n",
    "%mv Psi_a_*_7-A1.cube Orbital2_7-A1.cube\n",
    "%rm Psi_*cube\n",
    "cubefile1_2 = 'Orbital2_2-B1.cube'\n",
    "cubefile2_2 = 'Orbital2_7-A1.cube'\n",
    "\n",
    "print('Done')"
   ]
  },
  {
   "cell_type": "code",
   "execution_count": null,
   "id": "appreciated-visiting",
   "metadata": {},
   "outputs": [],
   "source": [
    "# Name of intermediate file\n",
    "trfile='scan.traj'\n",
    "\n",
    "# From single sctructures to trajectory loaded on nglview\n",
    "## Get structures into ase object\n",
    "mol_1 = ase.io.read(cubefile1_1)\n",
    "mol_2 = ase.io.read(cubefile1_2)\n",
    "mols = [mol_1, mol_2]\n",
    "## Write into traj file\n",
    "ase.io.write(trfile,mols)\n",
    "## Read trajectory intp ase and convert to nglview object\n",
    "asetraj = ase.io.trajectory.TrajectoryReader(trfile)\n",
    "trajectory = nv.ASETrajectory(asetraj)\n",
    "## Generate view and load trajectory\n",
    "#view = nv.NGLWidget()\n",
    "#view.add_component(trajectory)\n",
    "## Or use the shortcut\n",
    "view = nv.show_asetraj(asetraj)\n",
    "view.parameters = {\"clipNear\": 0, \"clipFar\": 100, \"clipDist\": 1}"
   ]
  },
  {
   "cell_type": "code",
   "execution_count": null,
   "id": "artificial-nelson",
   "metadata": {},
   "outputs": [],
   "source": [
    "# Check number of frames\n",
    "len(asetraj)"
   ]
  },
  {
   "cell_type": "code",
   "execution_count": null,
   "id": "embedded-reflection",
   "metadata": {},
   "outputs": [],
   "source": [
    "# The viewer for traj includes controls\n",
    "view\n",
    "# Can be disable with \n",
    "#view.player.widget_player_slider.close()\n",
    "# But needs to be done before calling view"
   ]
  },
  {
   "cell_type": "markdown",
   "id": "divided-enterprise",
   "metadata": {},
   "source": [
    "When loading a trajectory, the `NGLwidget` contains controls to manage the trajectory. This can also be done manipulating the wiew (if we need to use external widgets)"
   ]
  },
  {
   "cell_type": "code",
   "execution_count": null,
   "id": "dangerous-leisure",
   "metadata": {},
   "outputs": [],
   "source": [
    "orbs = []\n",
    "# component_1 (store component address in orbs list)\n",
    "orbs.append(view.add_component(cubefile2_1))\n",
    "view.component_1.clear()\n",
    "view.component_1.add_surface(opacity=0.5, color='blue', isolevel=1. )\n",
    "view.component_1.add_surface(opacity=0.5, color='red', isolevel=-1.)\n",
    "view.component_1.hide()\n",
    "# component_2\n",
    "orbs.append(view.add_component(cubefile2_2))\n",
    "view.component_2.clear()\n",
    "view.component_2.add_surface(opacity=0.5, color='blue', isolevel=1. )\n",
    "view.component_2.add_surface(opacity=0.5, color='red', isolevel=-1.)\n",
    "view.component_2.hide()"
   ]
  },
  {
   "cell_type": "code",
   "execution_count": null,
   "id": "subjective-ceiling",
   "metadata": {},
   "outputs": [],
   "source": [
    "# Show surface for first geom\n",
    "view.frame = 0\n",
    "orbs[0].show()"
   ]
  },
  {
   "cell_type": "code",
   "execution_count": null,
   "id": "growing-reproduction",
   "metadata": {},
   "outputs": [],
   "source": [
    "# Show surface for second geom\n",
    "view.frame = 1\n",
    "orbs[0].hide()\n",
    "orbs[1].show()"
   ]
  },
  {
   "cell_type": "markdown",
   "id": "structured-notification",
   "metadata": {},
   "source": [
    "## Interactivity: integration with ipywidgets\n",
    "\n",
    "It is likely that event handling can be access through some attributes of `NGLwiget` object (`view`), e.g.: </p>\n",
    "`view.notify_change()`</p>\n",
    "`view.trait_events()`</p>\n",
    "...\n",
    "\n",
    "This is to be explored (e.g., it is likely that the change from the inserted controls can be linked to an update of the showed component)\n",
    "\n",
    "In the meantime (while not knowing how to do this), we can use `interact()` within widgets, together with `view.frame` and the list of components in `orbs`. The list can rebuild for each orbital in order to avoid having the all in memory, and only having the \"fast\" update along trajectory frames"
   ]
  },
  {
   "cell_type": "code",
   "execution_count": null,
   "id": "popular-identification",
   "metadata": {},
   "outputs": [],
   "source": [
    "# Import ipywidgets (and some specific to the main namespace)\n",
    "import ipywidgets as widgets\n",
    "from ipywidgets import interactive, VBox, HBox, Output\n",
    "\n",
    "# Import matplotlib and use magic\n",
    "%matplotlib widget\n",
    "import matplotlib.pyplot as plt"
   ]
  },
  {
   "cell_type": "code",
   "execution_count": null,
   "id": "ranking-player",
   "metadata": {},
   "outputs": [],
   "source": [
    "# Testing geometries\n",
    "geomxyz_1 = '''2\n",
    "HF geometry\n",
    "F 0.0 0.0 0\n",
    "H 0.0 0.0 1.0\n",
    "'''\n",
    "fxyz_1 = 'test1.xyz'\n",
    "open(fxyz_1,'w').write(geomxyz_1)\n",
    "geomxyz_2 = '''2\n",
    "HF geometry\n",
    "F 0.0 0.0 0\n",
    "H 0.0 0.0 1.5\n",
    "'''\n",
    "fxyz_2 = 'test2.xyz'\n",
    "open(fxyz_2,'w').write(geomxyz_2)"
   ]
  },
  {
   "cell_type": "code",
   "execution_count": null,
   "id": "mighty-maryland",
   "metadata": {},
   "outputs": [],
   "source": [
    "## PSI4 calculation ##\n",
    "# Compute energies with psi4 and store orbital energies\n",
    "\n",
    "orb_eners=[] #orb_eners[geo][symm][n_in_symm]\n",
    "mol_eners=[] #mol_eners[geo]\n",
    "cubefile = [[None,None],[None,None]] #cubefile[geo][mo]\n",
    "## GEO 1 ##\n",
    "\n",
    "## Generate input\n",
    "psi4_inp = geomxyz_1.split('\\n')\n",
    "psi4_inp = '\\n'.join(psi4_inp[2:])\n",
    "psi4_inp = '0 1\\n' + psi4_inp\n",
    "## Set psi4 Molecule\n",
    "psi4_mol = psi4.geometry(psi4_inp)\n",
    "## Compute\n",
    "E, wfn = psi4.energy('b3lyp/6-31G(d)',return_wfn=True)\n",
    "## Generate cubes\n",
    "psi4.driver.p4util.cubeprop(wfn)\n",
    "## Change name\n",
    "%mv Psi_a_*_2-B1.cube Orbital1_2-B1.cube\n",
    "%mv Psi_a_*_7-A1.cube Orbital1_7-A1.cube\n",
    "%rm Psi_*cube\n",
    "cubefile[0][0] = 'Orbital1_2-B1.cube'\n",
    "cubefile[0][1] = 'Orbital1_7-A1.cube'\n",
    "# Store orb energies (per symm)\n",
    "orb_eners.append(wfn.epsilon_a().nph)\n",
    "# Store total energy\n",
    "mol_eners.append(E)\n",
    "\n",
    "## GEO 2 ##\n",
    "\n",
    "## Generate input\n",
    "psi4_inp = geomxyz_2.split('\\n')\n",
    "psi4_inp = '\\n'.join(psi4_inp[2:])\n",
    "psi4_inp = '0 1\\n' + psi4_inp\n",
    "## Set psi4 Molecule\n",
    "psi4_mol = psi4.geometry(psi4_inp)\n",
    "## Compute\n",
    "E, wfn = psi4.energy('b3lyp/6-31G(d)',return_wfn=True)\n",
    "## Generate cubes\n",
    "psi4.driver.p4util.cubeprop(wfn)\n",
    "## Change name\n",
    "%mv Psi_a_*_2-B1.cube Orbital2_2-B1.cube\n",
    "%mv Psi_a_*_7-A1.cube Orbital2_7-A1.cube\n",
    "%rm Psi_*cube\n",
    "cubefile[1][0] = 'Orbital2_2-B1.cube'\n",
    "cubefile[1][1] = 'Orbital2_7-A1.cube'\n",
    "# Store orb energies (per symm)\n",
    "orb_eners.append(wfn.epsilon_a().nph)\n",
    "# Store total energy\n",
    "mol_eners.append(E)\n",
    "\n",
    "# Convinient wraper of orb energies\n",
    "# cube_eners[geo][mo]\n",
    "cube_eners=[[orb_eners[0][2][1],orb_eners[0][0][6]],[orb_eners[1][2][1],orb_eners[1][0][6]]]\n",
    "\n",
    "print('Done')"
   ]
  },
  {
   "cell_type": "markdown",
   "id": "metric-independence",
   "metadata": {},
   "source": [
    "### Interactive geometry selection"
   ]
  },
  {
   "cell_type": "code",
   "execution_count": null,
   "id": "fleet-score",
   "metadata": {},
   "outputs": [],
   "source": [
    "# Set traj view\n",
    "## Name of intermediate file\n",
    "trfile='scan.traj'\n",
    "# From single sctructures to trajectory loaded on nglview\n",
    "## Get structures into ase object\n",
    "mol_1 = ase.io.read(cubefile1_1)\n",
    "mol_2 = ase.io.read(cubefile1_2)\n",
    "mols = [mol_1, mol_2]\n",
    "## Write into traj file\n",
    "ase.io.write(trfile,mols)\n",
    "## Read trajectory intp ase and convert to nglview object\n",
    "asetraj = ase.io.trajectory.TrajectoryReader(trfile)\n",
    "## Generate view with trajectory\n",
    "view = nv.show_asetraj(asetraj)\n",
    "view.parameters = {\"clipNear\": 0, \"clipFar\": 100, \"clipDist\": 1}\n",
    "# Disable embeded player slider\n",
    "view.player.widget_player_slider.close()"
   ]
  },
  {
   "cell_type": "code",
   "execution_count": null,
   "id": "novel-dream",
   "metadata": {},
   "outputs": [],
   "source": [
    "# Store orbs\n",
    "orbs = []\n",
    "# component_1 (store component address in orbs list)\n",
    "orbs.append(view.add_component(cubefile2_1))\n",
    "view.component_1.clear()\n",
    "view.component_1.add_surface(opacity=0.5, color='blue', isolevel=1. )\n",
    "view.component_1.add_surface(opacity=0.5, color='red', isolevel=-1.)\n",
    "view.component_1.hide()\n",
    "# component_2\n",
    "orbs.append(view.add_component(cubefile2_2))\n",
    "view.component_2.clear()\n",
    "view.component_2.add_surface(opacity=0.5, color='blue', isolevel=1. )\n",
    "view.component_2.add_surface(opacity=0.5, color='red', isolevel=-1.)\n",
    "view.component_2.hide()"
   ]
  },
  {
   "cell_type": "code",
   "execution_count": null,
   "id": "recent-nerve",
   "metadata": {},
   "outputs": [],
   "source": [
    "def update_geom(i):\n",
    "    global view, orbs\n",
    "    # Geom\n",
    "    view.frame = i\n",
    "    # Orbs\n",
    "    for orb in orbs:\n",
    "        orb.hide()\n",
    "    orbs[i].show()\n",
    "    \n",
    "controls = interactive(update_geom, \n",
    "                       i=(0,1,1))\n",
    "VBox([view, controls])"
   ]
  },
  {
   "cell_type": "markdown",
   "id": "third-protection",
   "metadata": {},
   "source": [
    "### Add orbital diagram"
   ]
  },
  {
   "cell_type": "markdown",
   "id": "flying-acrylic",
   "metadata": {},
   "source": [
    "Use `matplotlib` to plot MO diagram. The figure is placed in a `Output` widget so that it can be handled arranged with `HBox` and `VBox`"
   ]
  },
  {
   "cell_type": "code",
   "execution_count": null,
   "id": "metric-technical",
   "metadata": {},
   "outputs": [],
   "source": [
    "# WARNING: figures must be closed\n",
    "out_diagram = Output(layout={'border': '1px solid black'})\n",
    "with out_diagram:\n",
    "    OMdiagram, ax = plt.subplots(1,figsize=(2,6))\n",
    "    OMdiagram.tight_layout()\n",
    "    OMdiagram.canvas.header_visible = False\n",
    "    ax.set_ylabel('Energy, a.u.')\n",
    "    ax.set_xticklabels([])"
   ]
  },
  {
   "cell_type": "markdown",
   "id": "capable-doubt",
   "metadata": {},
   "source": [
    "The view object must be called only once for display after being created. It is therefore convinient to put the creation and display in the same cell"
   ]
  },
  {
   "cell_type": "code",
   "execution_count": null,
   "id": "opposed-listening",
   "metadata": {},
   "outputs": [],
   "source": [
    "# Set traj view\n",
    "## Name of intermediate file\n",
    "trfile='scan.traj'\n",
    "# From single sctructures to trajectory loaded on nglview\n",
    "## Get structures into ase object\n",
    "mol_1 = ase.io.read(cubefile[0][0])\n",
    "mol_2 = ase.io.read(cubefile[1][0])\n",
    "mols = [mol_1, mol_2]\n",
    "## Write into traj file\n",
    "ase.io.write(trfile,mols)\n",
    "## Read trajectory intp ase and convert to nglview object\n",
    "asetraj = ase.io.trajectory.TrajectoryReader(trfile)\n",
    "## Generate view with trajectory\n",
    "view = nv.show_asetraj(asetraj)\n",
    "view.parameters = {\"clipNear\": 0, \"clipFar\": 100, \"clipDist\": 1}\n",
    "# Disable embeded player slider\n",
    "view.player.widget_player_slider.close()\n",
    "\n",
    "# Store orbs surfare representations\n",
    "orbs = []\n",
    "# component_1 (store component address in orbs list)\n",
    "orbs.append(view.add_component(cubefile[0][1]))\n",
    "orbs[-1].clear()\n",
    "orbs[-1].add_surface(opacity=0.5, color='blue', isolevel=1. )\n",
    "orbs[-1].add_surface(opacity=0.5, color='red', isolevel=-1.)\n",
    "orbs[-1].hide()\n",
    "# component_2\n",
    "orbs.append(view.add_component(cubefile[1][1]))\n",
    "orbs[-1].clear()\n",
    "orbs[-1].add_surface(opacity=0.5, color='blue', isolevel=1. )\n",
    "orbs[-1].add_surface(opacity=0.5, color='red', isolevel=-1.)\n",
    "orbs[-1].hide()\n",
    "\n",
    "# Build an output container to print info about orbital\n",
    "out_label=Output()\n",
    "\n",
    "# DISPLAY\n",
    "def update_geom(i):\n",
    "    global view, orbs\n",
    "    # Geom\n",
    "    view.frame = i\n",
    "    # Orbs\n",
    "    for orb in orbs:\n",
    "        orb.hide()\n",
    "    orbs[i].show()\n",
    "    ax.clear()\n",
    "    ax.hlines(cube_eners[i],xmin=1,xmax=2,color='k')\n",
    "    \n",
    "controls = interactive(update_geom, \n",
    "                       i=widgets.IntSlider(value=0,min=0,max=1,description='Geom'))\n",
    "surfbox = VBox([out_label,view, controls],layout={'width': '700px'})\n",
    "HBox([surfbox,out_diagram])"
   ]
  },
  {
   "cell_type": "markdown",
   "id": "czech-utilization",
   "metadata": {},
   "source": [
    "### Interactive MO selection"
   ]
  },
  {
   "cell_type": "code",
   "execution_count": null,
   "id": "defensive-premises",
   "metadata": {
    "scrolled": false
   },
   "outputs": [],
   "source": [
    "# Initialize orb/geo ids\n",
    "mo_  = 1\n",
    "geo_ = 0\n",
    "\n",
    "\n",
    "# Set traj view\n",
    "## Name of intermediate file\n",
    "trfile='scan.traj'\n",
    "# From single sctructures to trajectory loaded on nglview\n",
    "## Get structures into ase object\n",
    "mol_1 = ase.io.read(cubefile[0][0])\n",
    "mol_2 = ase.io.read(cubefile[1][0])\n",
    "mols = [mol_1, mol_2]\n",
    "## Write into traj file\n",
    "ase.io.write(trfile,mols)\n",
    "## Read trajectory intp ase and convert to nglview object\n",
    "asetraj = ase.io.trajectory.TrajectoryReader(trfile)\n",
    "## Generate view with trajectory\n",
    "view = nv.show_asetraj(asetraj)\n",
    "view.parameters = {\"clipNear\": 0, \"clipFar\": 100, \"clipDist\": 1}\n",
    "# Disable embeded player slider\n",
    "view.player.widget_player_slider.close()\n",
    "\n",
    "# Store orbs surfare representations\n",
    "orbs = []\n",
    "# component_1 (store component address in orbs list)\n",
    "orbs.append(view.add_component(cubefile[0][mo_]))\n",
    "orbs[-1].clear()\n",
    "orbs[-1].add_surface(opacity=0.5, color='blue', isolevel=1. )\n",
    "orbs[-1].add_surface(opacity=0.5, color='red', isolevel=-1.)\n",
    "orbs[-1].hide()\n",
    "# component_2\n",
    "orbs.append(view.add_component(cubefile[1][mo_]))\n",
    "orbs[-1].clear()\n",
    "orbs[-1].add_surface(opacity=0.5, color='blue', isolevel=1. )\n",
    "orbs[-1].add_surface(opacity=0.5, color='red', isolevel=-1.)\n",
    "orbs[-1].hide()\n",
    "\n",
    "# Build an output container to print info about orbital\n",
    "out_label=Output()\n",
    "\n",
    "# DISPLAY\n",
    "    \n",
    "def update_repr(geo,mo):\n",
    "    global view, orbs, mo_, geo_\n",
    "    \n",
    "    out_label.clear_output()\n",
    "    with out_label:\n",
    "        print('Geom:',geo,geo_)\n",
    "        print('MO:',mo,mo_)\n",
    "      \n",
    "    # Only one MO is loaded in memory (for all geoms)\n",
    "    # So, if it changes, reload the right one\n",
    "    if (mo != mo_):\n",
    "        #Update mo (load new set)\n",
    "        # remove current\n",
    "        for orb in orbs:\n",
    "            view.remove_component(orb)\n",
    "        # load new mo\n",
    "        orbs=[]\n",
    "        # component_1 (store component address in orbs list)\n",
    "        orbs.append(view.add_component(cubefile[0][mo]))\n",
    "        orbs[-1].clear()\n",
    "        orbs[-1].add_surface(opacity=0.5, color='blue', isolevel=1. )\n",
    "        orbs[-1].add_surface(opacity=0.5, color='red', isolevel=-1.)\n",
    "        orbs[-1].hide()\n",
    "        # component_2\n",
    "        orbs.append(view.add_component(cubefile[1][mo]))\n",
    "        orbs[-1].clear()\n",
    "        orbs[-1].add_surface(opacity=0.5, color='blue', isolevel=1. )\n",
    "        orbs[-1].add_surface(opacity=0.5, color='red', isolevel=-1.)\n",
    "        orbs[-1].hide()\n",
    "\n",
    "    #Update geo\n",
    "    # Geom\n",
    "    view.frame = geo\n",
    "    # Orbs\n",
    "    orbs[geo_].hide()\n",
    "        \n",
    "    # Display selected\n",
    "    orbs[geo].show()\n",
    "    \n",
    "    # Update diagram\n",
    "    ax.clear()\n",
    "    ax.hlines(cube_eners[geo],xmin=1,xmax=2,color='k')\n",
    "    ax.hlines(cube_eners[geo][mo],xmin=1,xmax=2,linewidths=3,color='yellow', visible=True, alpha=0.7)\n",
    "    \n",
    "    # Update ids\n",
    "    mo_=mo\n",
    "    geo_=geo\n",
    "    \n",
    "    \n",
    "# DISPLAY\n",
    "controls = interactive(update_repr, \n",
    "                       geo=widgets.IntSlider(value=0,min=0,max=1,description='Geom'),\n",
    "                       mo=widgets.IntSlider(value=1,min=0,max=1,description='MO'))\n",
    "surfbox = VBox([out_label,view, controls],layout={'width': '700px'})\n",
    "HBox([surfbox,out_diagram])"
   ]
  },
  {
   "cell_type": "code",
   "execution_count": null,
   "id": "executive-manor",
   "metadata": {},
   "outputs": [],
   "source": []
  }
 ],
 "metadata": {
  "kernelspec": {
   "display_name": "Python 3",
   "language": "python",
   "name": "python3"
  },
  "language_info": {
   "codemirror_mode": {
    "name": "ipython",
    "version": 3
   },
   "file_extension": ".py",
   "mimetype": "text/x-python",
   "name": "python",
   "nbconvert_exporter": "python",
   "pygments_lexer": "ipython3",
   "version": "3.7.3"
  },
  "toc": {
   "base_numbering": 1,
   "nav_menu": {},
   "number_sections": true,
   "sideBar": true,
   "skip_h1_title": true,
   "title_cell": "Table of Contents",
   "title_sidebar": "Contents",
   "toc_cell": false,
   "toc_position": {
    "height": "calc(100% - 180px)",
    "left": "10px",
    "top": "150px",
    "width": "227.55px"
   },
   "toc_section_display": true,
   "toc_window_display": true
  }
 },
 "nbformat": 4,
 "nbformat_minor": 5
}
